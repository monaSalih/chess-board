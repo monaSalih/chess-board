{
 "cells": [
  {
   "cell_type": "code",
   "execution_count": 22,
   "metadata": {},
   "outputs": [
    {
     "ename": "SyntaxError",
     "evalue": "invalid syntax (592202185.py, line 45)",
     "output_type": "error",
     "traceback": [
      "\u001b[0;36m  File \u001b[0;32m\"/tmp/ipykernel_20067/592202185.py\"\u001b[0;36m, line \u001b[0;32m45\u001b[0m\n\u001b[0;31m    board.render()import numpy as np\u001b[0m\n\u001b[0m                  ^\u001b[0m\n\u001b[0;31mSyntaxError\u001b[0m\u001b[0;31m:\u001b[0m invalid syntax\n"
     ]
    }
   ],
   "source": [
    "import numpy as np\n",
    "import matplotlib.pyplot as plt\n",
    "\n",
    "class ChessBoard:\n",
    "   \n",
    " \n",
    "    \n",
    "    \n",
    "    def __init__(self):\n",
    "        self.grid = np.zeros([8,8,3])\n",
    "        \n",
    "   \n",
    "        for col in range(8):\n",
    "            for row in range(8):\n",
    "                if (col%2 ==0 and row%2==1) or (col%2==1 and row%2==0):\n",
    "                    self.grid[col,row]=(1,1,1)\n",
    "                   \n",
    "    def add_blue(self, row, col):\n",
    "        self.grid[row,col] = (0,1,1)\n",
    "        self.q1=[row,col]\n",
    "        \n",
    "    \n",
    "    def add_red(self, row, col):\n",
    "        self.grid[row,col] = (1,.2,0)\n",
    "        self.q2=[row,col]\n",
    "          \n",
    "    def render(self):\n",
    "        plt.imshow(self.grid)\n",
    "        \n",
    "    def is_under_attack(self,quen_x,quen_y,quen2_x,quen2_y):\n",
    "        if quen_x==quen2_x or quen_y==quen2_y:\n",
    "            return True\n",
    "        if abs(quen_x-quen_y)==abs(quen2_x-quen2_y):\n",
    "            return True\n",
    "        return False\n",
    "    \n",
    "   \n",
    "\n",
    "\n",
    "board = ChessBoard()\n",
    "board.add_red(4,4)\n",
    "board.add_blue(4,6)\n",
    "board.add_red(2,4)\n",
    "board.add_blue(3,4)\n",
    "board.render()"
   ]
  },
  {
   "cell_type": "code",
   "execution_count": null,
   "metadata": {},
   "outputs": [],
   "source": [
    "#check on same digonal\n",
    "assert  ChessBoard.is_under_attack(0,0,1,1) == True\n",
    "#check same cloume\n",
    "assert  ChessBoard.is_under_attack(2,4,3,4) == True\n",
    "#check same row\n",
    "assert  ChessBoard.is_under_attack(4,4,4,6) == True\n",
    "#check not under atack\n",
    "assert  ChessBoard.is_under_attack(4,4,4,6) == True"
   ]
  }
 ],
 "metadata": {
  "interpreter": {
   "hash": "31f2aee4e71d21fbe5cf8b01ff0e069b9275f58929596ceb00d14d90e3e16cd6"
  },
  "kernelspec": {
   "display_name": "Python 3 (ipykernel)",
   "language": "python",
   "name": "python3"
  },
  "language_info": {
   "codemirror_mode": {
    "name": "ipython",
    "version": 3
   },
   "file_extension": ".py",
   "mimetype": "text/x-python",
   "name": "python",
   "nbconvert_exporter": "python",
   "pygments_lexer": "ipython3",
   "version": "3.9.5"
  }
 },
 "nbformat": 4,
 "nbformat_minor": 4
}
