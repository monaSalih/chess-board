{
 "cells": [
  {
   "cell_type": "code",
   "execution_count": 2,
   "metadata": {},
   "outputs": [
    {
     "name": "stdout",
     "output_type": "stream",
     "text": [
      "first progect\n"
     ]
    }
   ],
   "source": [
    "# import numpy as np\n",
    "# print (\"first progect\")"
   ]
  },
  {
   "cell_type": "code",
   "execution_count": 3,
   "metadata": {},
   "outputs": [
    {
     "ename": "IndentationError",
     "evalue": "expected an indented block (3942075837.py, line 33)",
     "output_type": "error",
     "traceback": [
      "\u001b[0;36m  File \u001b[0;32m\"/tmp/ipykernel_20290/3942075837.py\"\u001b[0;36m, line \u001b[0;32m33\u001b[0m\n\u001b[0;31m    def is_under_attack(self):\u001b[0m\n\u001b[0m    ^\u001b[0m\n\u001b[0;31mIndentationError\u001b[0m\u001b[0;31m:\u001b[0m expected an indented block\n"
     ]
    }
   ],
   "source": [
    "import numpy as np\n",
    "import matplotlib.pyplot as plt\n",
    "\n",
    "class ChessBoard:\n",
    "    white = [1,1,1]\n",
    "    blue = [0,0,1]\n",
    "    red = [1,0,0]\n",
    "    def __init__(self):\n",
    "        self.grid = np.zeros([8,8,3])\n",
    "        for coord in np.ndindex(8,8):\n",
    "            if coord[0]%2 != coord[1]%2:\n",
    "                self.grid[coord[0],coord[1]] = ChessBoard.white\n",
    "    \n",
    "    def add_blue(self, row, col):\n",
    "        self.grid[row,col] = ChessBoard.blue\n",
    "    \n",
    "    def add_red(self, row, col):\n",
    "        self.grid[row,col] = ChessBoard.red\n",
    "          \n",
    "    def render(self):\n",
    "        plt.imshow(self.grid)\n",
    "        \n",
    "    def check_if_diagonal(self, x1, y1, x2, y2):\n",
    "        if abs(x1-x2) == abs(y1-y2):\n",
    "            return True\n",
    "        return False\n",
    "    \n",
    "    def check_if_under_attack(self,red_x,red_y,blue_x,blue_y):\n",
    "        # if horizontal x's\n",
    "        # if vertical y's\n",
    "        # if diagonal\n",
    "    \n",
    "    def is_under_attack(self):\n",
    "        # loop to run check_if_under_attack for each cell compared to other cells\n",
    "        # OR Detect all blues and reds then check\n",
    "        # OR your approach\n",
    "        \n",
    "#     (3,1) is diagonal to (6,4)\n",
    "#     abs(3-6) == abs(1-4)\n",
    "#     abs(-3) == abs(-3)\n",
    "#     3  == 3\n",
    "\n",
    "\n",
    "board = ChessBoard()\n",
    "board.add_red(1,2)\n",
    "board.add_blue(3,3)\n",
    "board.add_red(2,5)\n",
    "board.add_blue(7,2)\n",
    "board.render()"
   ]
  },
  {
   "cell_type": "code",
   "execution_count": null,
   "metadata": {},
   "outputs": [],
   "source": []
  }
 ],
 "metadata": {
  "interpreter": {
   "hash": "31f2aee4e71d21fbe5cf8b01ff0e069b9275f58929596ceb00d14d90e3e16cd6"
  },
  "kernelspec": {
   "display_name": "Python 3 (ipykernel)",
   "language": "python",
   "name": "python3"
  },
  "language_info": {
   "codemirror_mode": {
    "name": "ipython",
    "version": 3
   },
   "file_extension": ".py",
   "mimetype": "text/x-python",
   "name": "python",
   "nbconvert_exporter": "python",
   "pygments_lexer": "ipython3",
   "version": "3.9.5"
  }
 },
 "nbformat": 4,
 "nbformat_minor": 4
}
