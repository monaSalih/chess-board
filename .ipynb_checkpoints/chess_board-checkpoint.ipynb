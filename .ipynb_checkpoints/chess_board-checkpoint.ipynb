{
 "cells": [
  {
   "cell_type": "code",
   "execution_count": 19,
   "metadata": {},
   "outputs": [
    {
     "data": {
      "image/png": "[encoded data removed]",
      "text/plain": [
       "<Figure size 432x288 with 1 Axes>"
      ]
     },
     "metadata": {
      "needs_background": "light"
     },
     "output_type": "display_data"
    }
   ],
   "source": [
    "import numpy as np\n",
    "import matplotlib.pyplot as plt\n",
    "\n",
    "class ChessBoard:\n",
    "   \n",
    " \n",
    "    \n",
    "    \n",
    "    def __init__(self):\n",
    "        self.grid = np.zeros([8,8,3])\n",
    "        \n",
    "   \n",
    "        for col in range(8):\n",
    "            for row in range(8):\n",
    "                if (col%2 ==0 and row%2==1) or (col%2==1 and row%2==0):\n",
    "                    self.grid[col,row]=(1,1,1)\n",
    "                   \n",
    "    def add_blue(self, row, col):\n",
    "        self.grid[row,col] = (0,1,1)\n",
    "        self.q1=[row,col]\n",
    "        \n",
    "    \n",
    "    def add_red(self, row, col):\n",
    "        self.grid[row,col] = (1,.2,0)\n",
    "        self.q2=[row,col]\n",
    "          \n",
    "    def render(self):\n",
    "        plt.imshow(self.grid)\n",
    "        \n",
    "    def is_under_attack(self):\n",
    "        if self.blue[0]==self.red[0] or self.blue[1]==self.red[1]:\n",
    "            return True\n",
    "        if abs(self.blue[0]-self.red[0])==abs(self.blue[1]-self.red[1]):\n",
    "            return True\n",
    "        return False\n",
    "    \n",
    "   \n",
    "\n",
    "\n",
    "board = ChessBoard()\n",
    "board.add_red(4,2)\n",
    "board.add_blue(3,3)\n",
    "board.add_red(2,5)\n",
    "board.add_blue(7,2)\n",
    "board.render()"
   ]
  },
  {
   "cell_type": "code",
   "execution_count": null,
   "metadata": {},
   "outputs": [],
   "source": []
  },
  {
   "cell_type": "code",
   "execution_count": null,
   "metadata": {},
   "outputs": [],
   "source": []
  }
 ],
 "metadata": {
  "interpreter": {
   "hash": "31f2aee4e71d21fbe5cf8b01ff0e069b9275f58929596ceb00d14d90e3e16cd6"
  },
  "kernelspec": {
   "display_name": "Python 3 (ipykernel)",
   "language": "python",
   "name": "python3"
  },
  "language_info": {
   "codemirror_mode": {
    "name": "ipython",
    "version": 3
   },
   "file_extension": ".py",
   "mimetype": "text/x-python",
   "name": "python",
   "nbconvert_exporter": "python",
   "pygments_lexer": "ipython3",
   "version": "3.9.5"
  }
 },
 "nbformat": 4,
 "nbformat_minor": 4
}
